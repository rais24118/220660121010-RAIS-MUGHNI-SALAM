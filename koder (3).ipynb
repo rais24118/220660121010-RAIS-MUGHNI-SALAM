{
 "cells": [
  {
   "cell_type": "code",
   "execution_count": 1,
   "id": "92290f7e-0bb2-400f-9131-588499f87b05",
   "metadata": {},
   "outputs": [
    {
     "name": "stdout",
     "output_type": "stream",
     "text": [
      "    support                                    itemsets\n",
      "0       0.6                            (Bunga Matahari)\n",
      "1       0.6                             (Bunga Anggrek)\n",
      "2       0.4                               (Bunga Mawar)\n",
      "3       0.4                             (Bunga Bangkai)\n",
      "4       0.8                               (Bunga Tulip)\n",
      "5       0.4               (Bunga Mawar, Bunga Matahari)\n",
      "6       0.6               (Bunga Tulip, Bunga Matahari)\n",
      "7       0.4              (Bunga Anggrek, Bunga Bangkai)\n",
      "8       0.4                (Bunga Anggrek, Bunga Tulip)\n",
      "9       0.4                  (Bunga Mawar, Bunga Tulip)\n",
      "10      0.4  (Bunga Mawar, Bunga Tulip, Bunga Matahari)\n",
      "                      antecedents                    consequents  \\\n",
      "0                   (Bunga Mawar)               (Bunga Matahari)   \n",
      "1                (Bunga Matahari)                  (Bunga Mawar)   \n",
      "2                   (Bunga Tulip)               (Bunga Matahari)   \n",
      "3                (Bunga Matahari)                  (Bunga Tulip)   \n",
      "4                 (Bunga Anggrek)                (Bunga Bangkai)   \n",
      "5                 (Bunga Bangkai)                (Bunga Anggrek)   \n",
      "6                   (Bunga Mawar)                  (Bunga Tulip)   \n",
      "7                   (Bunga Tulip)                  (Bunga Mawar)   \n",
      "8      (Bunga Mawar, Bunga Tulip)               (Bunga Matahari)   \n",
      "9   (Bunga Mawar, Bunga Matahari)                  (Bunga Tulip)   \n",
      "10  (Bunga Tulip, Bunga Matahari)                  (Bunga Mawar)   \n",
      "11                  (Bunga Mawar)  (Bunga Tulip, Bunga Matahari)   \n",
      "12                  (Bunga Tulip)  (Bunga Mawar, Bunga Matahari)   \n",
      "13               (Bunga Matahari)     (Bunga Mawar, Bunga Tulip)   \n",
      "\n",
      "    antecedent support  consequent support  support  confidence      lift  \\\n",
      "0                  0.4                 0.6      0.4    1.000000  1.666667   \n",
      "1                  0.6                 0.4      0.4    0.666667  1.666667   \n",
      "2                  0.8                 0.6      0.6    0.750000  1.250000   \n",
      "3                  0.6                 0.8      0.6    1.000000  1.250000   \n",
      "4                  0.6                 0.4      0.4    0.666667  1.666667   \n",
      "5                  0.4                 0.6      0.4    1.000000  1.666667   \n",
      "6                  0.4                 0.8      0.4    1.000000  1.250000   \n",
      "7                  0.8                 0.4      0.4    0.500000  1.250000   \n",
      "8                  0.4                 0.6      0.4    1.000000  1.666667   \n",
      "9                  0.4                 0.8      0.4    1.000000  1.250000   \n",
      "10                 0.6                 0.4      0.4    0.666667  1.666667   \n",
      "11                 0.4                 0.6      0.4    1.000000  1.666667   \n",
      "12                 0.8                 0.4      0.4    0.500000  1.250000   \n",
      "13                 0.6                 0.4      0.4    0.666667  1.666667   \n",
      "\n",
      "    leverage  conviction  zhangs_metric  \n",
      "0       0.16         inf       0.666667  \n",
      "1       0.16         1.8       1.000000  \n",
      "2       0.12         1.6       1.000000  \n",
      "3       0.12         inf       0.500000  \n",
      "4       0.16         1.8       1.000000  \n",
      "5       0.16         inf       0.666667  \n",
      "6       0.08         inf       0.333333  \n",
      "7       0.08         1.2       1.000000  \n",
      "8       0.16         inf       0.666667  \n",
      "9       0.08         inf       0.333333  \n",
      "10      0.16         1.8       1.000000  \n",
      "11      0.16         inf       0.666667  \n",
      "12      0.08         1.2       1.000000  \n",
      "13      0.16         1.8       1.000000  \n"
     ]
    },
    {
     "name": "stderr",
     "output_type": "stream",
     "text": [
      "C:\\Users\\Lenovo\\anaconda3\\Lib\\site-packages\\mlxtend\\frequent_patterns\\fpcommon.py:109: DeprecationWarning: DataFrames with non-bool types result in worse computationalperformance and their support might be discontinued in the future.Please use a DataFrame with bool type\n",
      "  warnings.warn(\n"
     ]
    }
   ],
   "source": [
    "import pandas as pd\n",
    "from mlxtend.frequent_patterns import apriori, association_rules\n",
    "\n",
    "# Data transaksi\n",
    "data = {\n",
    "    'Bunga Matahari': [0, 1, 1, 0, 1],\n",
    "    'Bunga Anggrek': [1, 0, 1, 1, 0],\n",
    "    'Bunga Mawar': [0, 1, 1, 0, 0],\n",
    "    'Bunga Bangkai': [1, 0, 1, 0, 0],\n",
    "    'Bunga Tulip': [0, 1, 1, 1, 1]\n",
    "}\n",
    "\n",
    "df = pd.DataFrame(data)\n",
    "\n",
    "# Menghasilkan frequent itemsets\n",
    "frequent_itemsets = apriori(df, min_support=0.4, use_colnames=True)\n",
    "\n",
    "# Menghasilkan aturan asosiasi\n",
    "rules = association_rules(frequent_itemsets, metric=\"lift\", min_threshold=1)\n",
    "\n",
    "# Menampilkan hasil\n",
    "print(frequent_itemsets)\n",
    "print(rules)"
   ]
  },
  {
   "cell_type": "code",
   "execution_count": null,
   "id": "82ea7965-e10f-4cc1-a07c-6ac879f4d7e9",
   "metadata": {},
   "outputs": [],
   "source": []
  }
 ],
 "metadata": {
  "kernelspec": {
   "display_name": "Python 3 (ipykernel)",
   "language": "python",
   "name": "python3"
  },
  "language_info": {
   "codemirror_mode": {
    "name": "ipython",
    "version": 3
   },
   "file_extension": ".py",
   "mimetype": "text/x-python",
   "name": "python",
   "nbconvert_exporter": "python",
   "pygments_lexer": "ipython3",
   "version": "3.11.7"
  }
 },
 "nbformat": 4,
 "nbformat_minor": 5
}
